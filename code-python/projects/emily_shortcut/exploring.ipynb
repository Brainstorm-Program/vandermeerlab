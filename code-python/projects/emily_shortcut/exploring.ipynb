{
 "cells": [
  {
   "cell_type": "code",
   "execution_count": 1,
   "metadata": {
    "collapsed": false
   },
   "outputs": [],
   "source": [
    "# %matplotlib inline\n",
    "import numpy as np\n",
    "import matplotlib.pyplot as plt\n",
    "from shapely.geometry import Point, LineString\n",
    "import pickle\n",
    "import seaborn as sns\n",
    "import os\n",
    "\n",
    "import vdmlab as vdm\n",
    "\n",
    "from tuning_curves_functions import get_tc, get_odd_firing_idx\n",
    "\n",
    "import info.R063d2_info as r063d2\n",
    "import info.R063d3_info as r063d3\n",
    "import info.R063d4_info as r063d4\n",
    "import info.R063d5_info as r063d5\n",
    "import info.R063d6_info as r063d6\n",
    "import info.R066d1_info as r066d1\n",
    "import info.R066d2_info as r066d2\n",
    "import info.R066d4_info as r066d4"
   ]
  },
  {
   "cell_type": "code",
   "execution_count": 2,
   "metadata": {
    "collapsed": true
   },
   "outputs": [],
   "source": [
    "pickle_filepath = 'E:\\\\code\\\\vandermeerlab\\\\code-python\\\\projects\\\\emily_shortcut\\\\cache\\\\pickled\\\\'\n",
    "output_filepath = 'E:\\\\code\\\\vandermeerlab\\\\code-python\\\\projects\\\\emily_shortcut\\\\plots\\\\'\n",
    "# pickle_filepath = 'C:\\\\Users\\\\Emily\\\\Code\\\\vandermeerlab\\\\code-python\\\\projects\\\\emily_shortcut\\\\cache\\\\pickled\\\\'\n",
    "# output_filepath = 'C:\\\\Users\\\\Emily\\\\Code\\\\vandermeerlab\\\\code-python\\\\projects\\\\emily_shortcut\\\\plots\\\\'"
   ]
  },
  {
   "cell_type": "code",
   "execution_count": 3,
   "metadata": {
    "collapsed": true
   },
   "outputs": [],
   "source": [
    "info = r063d4"
   ]
  },
  {
   "cell_type": "code",
   "execution_count": 4,
   "metadata": {
    "collapsed": false
   },
   "outputs": [
    {
     "name": "stdout",
     "output_type": "stream",
     "text": [
      "R063d4\n",
      "Number of SWR events found:  255\n"
     ]
    }
   ],
   "source": [
    "print(info.session_id)\n",
    "pos = info.get_pos(info.pxl_to_cm)\n",
    "csc = info.get_csc()\n",
    "spikes = info.get_spikes()\n",
    "\n",
    "tc = get_tc(info, pos, pickle_filepath)\n",
    "\n",
    "pickled_spike_heatmaps = pickle_filepath + info.session_id + '_spike_heatmaps.pkl'\n",
    "if os.path.isfile(pickled_spike_heatmaps):\n",
    "    with open(pickled_spike_heatmaps, 'rb') as fileobj:\n",
    "        spike_heatmaps = pickle.load(fileobj)\n",
    "else:\n",
    "    spikes = info.get_spikes()\n",
    "\n",
    "    all_neurons = list(range(1, len(spikes['time'])))\n",
    "    spike_heatmaps = vdm.get_heatmaps(all_neurons, spikes, pos)\n",
    "    with open(pickled_spike_heatmaps, 'wb') as fileobj:\n",
    "        pickle.dump(spike_heatmaps, fileobj)\n",
    "\n",
    "exp_time = 'pauseB'\n",
    "\n",
    "t_start = info.task_times[exp_time][0]\n",
    "t_stop = info.task_times[exp_time][1]\n",
    "\n",
    "t_start_idx = vdm.find_nearest_idx(np.array(csc['time']), t_start)\n",
    "t_end_idx = vdm.find_nearest_idx(np.array(csc['time']), t_stop)\n",
    "\n",
    "sliced_csc = dict()\n",
    "sliced_csc['time'] = csc['time'][t_start_idx:t_end_idx]\n",
    "sliced_csc['data'] = csc['data'][t_start_idx:t_end_idx]\n",
    "\n",
    "swr_times, swr_idx, filtered_butter = vdm.detect_swr_hilbert(sliced_csc, fs=info.fs, z_thres=4, power_thres=3, merge_thres=0.2, min_length=0.01)\n",
    "\n",
    "\n",
    "sort_idx = vdm.get_sort_idx(tc['u'])\n",
    "\n",
    "odd_firing_idx = get_odd_firing_idx(tc['u'])\n",
    "\n",
    "\n",
    "all_u_fields = vdm.find_fields(tc['u'])\n",
    "all_shortcut_fields = vdm.find_fields(tc['shortcut'])\n",
    "all_novel_fields = vdm.find_fields(tc['novel'])\n",
    "\n",
    "u_compare = vdm.find_fields(tc['u'], hz_thres=3)\n",
    "shortcut_compare = vdm.find_fields(tc['shortcut'], hz_thres=3)\n",
    "novel_compare = vdm.find_fields(tc['novel'], hz_thres=3)\n",
    "\n",
    "u_fields_unique = vdm.unique_fields(all_u_fields, shortcut_compare, novel_compare)\n",
    "shortcut_fields_unique = vdm.unique_fields(all_shortcut_fields, u_compare, novel_compare)\n",
    "novel_fields_unique = vdm.unique_fields(all_novel_fields, u_compare, shortcut_compare)\n",
    "\n",
    "u_fields_size = vdm.sized_fields(u_fields_unique)\n",
    "shortcut_fields_size = vdm.sized_fields(shortcut_fields_unique)\n",
    "novel_fields_size = vdm.sized_fields(novel_fields_unique)\n",
    "\n",
    "u_fields = vdm.get_single_field(u_fields_size)\n",
    "shortcut_fields = vdm.get_single_field(shortcut_fields_size)\n",
    "novel_fields = vdm.get_single_field(novel_fields_size)\n",
    "\n",
    "\n",
    "these_fields = []\n",
    "for key in u_fields:\n",
    "    these_fields.append(key)\n",
    "\n",
    "field_spikes = []\n",
    "field_tc = []\n",
    "for idx in sort_idx:\n",
    "    if idx not in odd_firing_idx:\n",
    "        if idx in these_fields:\n",
    "            field_spikes.append(spikes['time'][idx])\n",
    "            field_tc.append(tc['u'][idx])"
   ]
  },
  {
   "cell_type": "code",
   "execution_count": 5,
   "metadata": {
    "collapsed": true
   },
   "outputs": [],
   "source": [
    "colours = ['#7f0000', '#b30000', '#d7301f', '#ef6548', '#ec7014', '#fe9929', '#78c679', '#238443', '#7fcdbb',\n",
    "           '#41b6c4', '#1d91c0', '#225ea8', '#8c96c6', '#8c6bb1', '#7a0177', '#ae017e', '#f768a1', '#fa9fb5',\n",
    "           '#fcc5c0', '#d9f0a3', '#addd8e', '#f7fcb9', '#fec44f', '#ffeda0', '#ffffbf', '#dd3497', '#9ebcda',\n",
    "           '#88419d', '#8c6bb1', 'k', 'b', 'c', 'g', 'm', 'r', 'y', 'k', 'b', 'c', 'g', 'm', 'r', 'y',\n",
    "           'k', 'b', 'c', 'g', 'm', 'r', 'y', 'k', 'b', 'c', 'g', 'm', 'r', 'y', 'k', 'b', 'c', 'g', 'm', 'r', 'y',\n",
    "           'k', 'b', 'c', 'g', 'm', 'r', 'y', 'k', 'b', 'c', 'g', 'm', 'r', 'y', 'k', 'b', 'c', 'g', 'm', 'r', 'y']\n",
    "\n",
    "# x = [1,2,3]\n",
    "# for colour in colours:\n",
    "#     print(colour)\n",
    "#     plt.plot(x, x, color=colour)\n",
    "#     plt.fill_between(x, 0, x, facecolor=colour)\n",
    "#     plt.show()\n"
   ]
  },
  {
   "cell_type": "code",
   "execution_count": 6,
   "metadata": {
    "collapsed": false
   },
   "outputs": [],
   "source": [
    "from matplotlib.offsetbox import AnchoredOffsetbox\n",
    "\n",
    "# Adapted from mpl_toolkits.axes_grid2\n",
    "class AnchoredScaleBar(AnchoredOffsetbox):\n",
    "    def __init__(self, transform, sizex=0, sizey=0, labelx=None, labely=None,\n",
    "                 loc=4, pad=0.1, borderpad=0.1, sep=2, prop=None, **kwargs):\n",
    "        \"\"\"\n",
    "        Modified, draw a horizontal and/or vertical  bar with the size in data coordinate\n",
    "        of the give axes. A label will be drawn underneath (center-aligned).\n",
    "        \n",
    "        Parameters\n",
    "        ----------\n",
    "        transform : the coordinate frame (typically axes.transData)\n",
    "        sizex, sizey : width of x,y bar, in data units. 0 to omit\n",
    "        labelx, labely : labels for x,y bars; None to omit\n",
    "        loc : position in containing axes\n",
    "        pad, borderpad : padding, in fraction of the legend font size (or prop)\n",
    "        sep : separation between labels and bars in points.\n",
    "        **kwargs : additional arguments passed to base class constructor\n",
    "        \"\"\"\n",
    "        from matplotlib.lines import Line2D\n",
    "        from matplotlib.pyplot import arrow\n",
    "        from matplotlib.text import Text\n",
    "        from matplotlib.offsetbox import AuxTransformBox\n",
    "        bars = AuxTransformBox(transform)\n",
    "        inv = transform.inverted()\n",
    "        pixelxy = inv.transform((1, 1)) - inv.transform((0, 0))\n",
    "\n",
    "        if sizex:\n",
    "            barx = Line2D([sizex, 0], [0, 0], transform=transform, color='k')\n",
    "            bars.add_artist(barx)            \n",
    "\n",
    "        if sizey:\n",
    "            bary = Line2D([0, 0], [0, sizey], transform=transform, color='k')\n",
    "            bars.add_artist(bary)             \n",
    " \n",
    "        if sizex and labelx:\n",
    "            textx = Text(text=labelx, x=sizex/2.0, y=-5*pixelxy[1], ha='center', va='top')\n",
    "            bars.add_artist(textx)\n",
    "            \n",
    "        if sizey and labely:\n",
    "            texty = Text(text=labely, rotation='vertical', y=sizey/2.0, x=-2*pixelxy[0], \n",
    "                         va='center', ha='right')\n",
    "            bars.add_artist(texty)\n",
    "            \n",
    "        AnchoredOffsetbox.__init__(self, loc=loc, pad=pad, borderpad=borderpad,\n",
    "                                       child=bars, prop=prop, frameon=False, **kwargs)\n",
    "\n",
    "def add_scalebar(ax, matchx=True, matchy=True, hidex=True, hidey=True, **kwargs):\n",
    "    \"\"\" Add scalebars to axes\n",
    "    Adds a set of scale bars to *ax*, matching the size to the ticks of the \n",
    "    plot and optionally hiding the x and y axes\n",
    "    \n",
    "    Parameters\n",
    "    ---------- \n",
    "    ax : the axis to attach ticks to\n",
    "    matchx, matchy : if True, set size of scale bars to spacing between ticks\n",
    "                    if False, size should be set using sizex and sizey params\n",
    "    hidex, hidey : if True, hide x-axis and y-axis of parent\n",
    "    **kwargs : additional arguments passed to AnchoredScaleBars\n",
    " \n",
    "    Returns created scalebar object\n",
    "    \"\"\"\n",
    "    def find_loc(axis):\n",
    "        loc = axis.get_majorticklocs()\n",
    "        return len(loc)>1 and (loc[1] - loc[0])\n",
    "    \n",
    "    if matchx:\n",
    "        kwargs['sizex'] = find_loc(ax.xaxis)\n",
    "#         kwargs['labelx'] = str(kwargs['sizex'])\n",
    "        kwargs['labelx'] = str(int(kwargs['sizex']*1000)) + ' ms'\n",
    "        \n",
    "    if matchy:\n",
    "        kwargs['sizey'] = find_loc(ax.yaxis)\n",
    "        kwargs['labely'] = str(kwargs['sizey'])\n",
    "        \n",
    "    scalebar = AnchoredScaleBar(ax.transData, **kwargs)\n",
    "    ax.add_artist(scalebar)\n",
    " \n",
    "    return scalebar"
   ]
  },
  {
   "cell_type": "code",
   "execution_count": 68,
   "metadata": {
    "collapsed": false
   },
   "outputs": [],
   "source": [
    "# Run time\n",
    "start_time = info.task_times['phase3'][0]+190\n",
    "stop_time = info.task_times['phase3'][0]+210\n",
    "\n",
    "# start_time = info.task_times['phase3'][0]+235\n",
    "# stop_time = info.task_times['phase3'][0]+250\n",
    "\n",
    "# start_time = info.task_times['phase2'][0]+860\n",
    "# stop_time = info.task_times['phase2'][0]+880\n",
    "\n",
    "# SWR time\n",
    "# idx = 39\n",
    "# idx = 46\n",
    "# start_time_swr = swr_times['start'][idx]\n",
    "# stop_time_swr = swr_times['stop'][idx]\n",
    "\n",
    "start_time_swr = 1371.23\n",
    "stop_time_swr = 1371.33\n",
    "\n",
    "\n",
    "rows = 12\n",
    "cols = 7\n",
    "fig = plt.figure()\n",
    "ax1 = plt.subplot2grid((rows, cols), (0, 1), rowspan=rows, colspan=4)\n",
    "ax2 = plt.subplot2grid((rows, cols), (0, 5), rowspan=rows, colspan=2)\n",
    "\n",
    "location = 1\n",
    "spike_loc = 2\n",
    "for idx, neuron_spikes in enumerate(field_spikes):\n",
    "#     if idx in these_fields:\n",
    "    ax1.plot(neuron_spikes, np.ones(len(neuron_spikes))+location, '|', \n",
    "             color=colours[int(np.floor(location/spike_loc))], ms=10, mew=2)\n",
    "    location += spike_loc\n",
    "ax1.set_xlim([start_time, stop_time])\n",
    "ax1.set_ylim([1, location])\n",
    "add_scalebar(ax1, matchy=False, loc=1)\n",
    "plt.setp(ax1, xticks=[], xticklabels=[], yticks=[])\n",
    "\n",
    "location = 1\n",
    "for i, neuron_spikes in enumerate(field_spikes):\n",
    "#     if i in these_fields:\n",
    "    ax2.plot(neuron_spikes, np.ones(len(neuron_spikes))+location, '|', \n",
    "             color=colours[int(np.floor(location/spike_loc))], ms=10, mew=2)\n",
    "    location += spike_loc\n",
    "ax2.set_xlim([start_time_swr, stop_time_swr])\n",
    "ax2.set_ylim([1, location])\n",
    "add_scalebar(ax2, matchy=False, loc=1)\n",
    "plt.setp(ax2, xticks=[], xticklabels=[], yticks=[])\n",
    "\n",
    "x = list(range(0, len(field_tc[0])))\n",
    "\n",
    "for ax_loc in range(0, rows):\n",
    "    ax = plt.subplot2grid((rows, cols), (ax_loc, 0))\n",
    "\n",
    "    idx = rows - ax_loc - 1\n",
    "    ax.plot(field_tc[idx], color=colours[idx])\n",
    "    ax.fill_between(x, 0, field_tc[idx], facecolor=colours[idx])\n",
    "    ax.spines['right'].set_visible(False)\n",
    "    ax.spines['top'].set_visible(False)\n",
    "    plt.setp(ax, xticks=[], xticklabels=[], yticks=[])\n",
    "\n",
    "sns.despine()\n",
    "plt.show()\n",
    "# savepath = output_filepath + info.session_id + '_sequence-swr1.png'\n",
    "# plt.savefig(savepath, dpi=300, bbox_inches='tight')\n",
    "# plt.close()"
   ]
  },
  {
   "cell_type": "code",
   "execution_count": 8,
   "metadata": {
    "collapsed": true
   },
   "outputs": [],
   "source": [
    "ordered_spikes = []\n",
    "for idx in sort_idx:\n",
    "    if idx not in odd_firing_idx:\n",
    "        ordered_spikes.append(spikes['time'][idx])"
   ]
  },
  {
   "cell_type": "code",
   "execution_count": 11,
   "metadata": {
    "collapsed": false
   },
   "outputs": [
    {
     "name": "stdout",
     "output_type": "stream",
     "text": [
      "Number of SWR events found:  318\n"
     ]
    }
   ],
   "source": [
    "swr_times, swr_idx, filtered_butter = vdm.detect_swr_hilbert(sliced_csc, fs=info.fs, z_thres=3, power_thres=4, merge_thres=0.2, min_length=0.01)"
   ]
  },
  {
   "cell_type": "code",
   "execution_count": 72,
   "metadata": {
    "collapsed": false
   },
   "outputs": [],
   "source": [
    "for idx in range(10,11):\n",
    "    plt.plot(csc['time'], csc['data']*1500)\n",
    "    for swr_start, swr_stop in zip(swr_idx['start'], swr_idx['stop']):\n",
    "        plt.plot(csc['time'][swr_start:swr_stop], csc['data'][swr_start:swr_stop]*1500, 'r')\n",
    "    location = 1\n",
    "    for i, neuron_spikes in enumerate(ordered_spikes):\n",
    "        if i in these_fields:\n",
    "            plt.plot(neuron_spikes, np.ones(len(neuron_spikes))+location, '|', color='r', ms=10, mew=1)\n",
    "            location += 2\n",
    "        else:\n",
    "            plt.plot(neuron_spikes, np.ones(len(neuron_spikes))+location, '|', color='k', ms=10, mew=1)\n",
    "            location += 2\n",
    "            \n",
    "#     for i, neuron_spikes in enumerate(field_spikes):\n",
    "# #         if i in these_fields:\n",
    "#         plt.plot(neuron_spikes, np.ones(len(neuron_spikes))+location, '|', color='k', ms=10, mew=1)\n",
    "#         location += 2\n",
    "#     plt.xlim(csc['time'][swr_idx['start'][idx]]-1, csc['time'][swr_idx['start'][idx]]+1)\n",
    "#     plt.xlim(1347.419835, 1348.419835)\n",
    "    plt.xlim(1371.23, 1371.326)\n",
    "    plt.show()"
   ]
  },
  {
   "cell_type": "code",
   "execution_count": null,
   "metadata": {
    "collapsed": false
   },
   "outputs": [],
   "source": [
    "print(csc['time'][swr_idx['start'][idx]]-0.5, csc['time'][swr_idx['start'][idx]]+0.5)"
   ]
  },
  {
   "cell_type": "code",
   "execution_count": 37,
   "metadata": {
    "collapsed": false
   },
   "outputs": [
    {
     "name": "stdout",
     "output_type": "stream",
     "text": [
      "12\n"
     ]
    }
   ],
   "source": [
    "print(len(field_spikes))"
   ]
  },
  {
   "cell_type": "code",
   "execution_count": 55,
   "metadata": {
    "collapsed": false
   },
   "outputs": [
    {
     "name": "stdout",
     "output_type": "stream",
     "text": [
      "3.0\n"
     ]
    }
   ],
   "source": [
    "y = 7\n",
    "t = np.floor(y/2)\n",
    "print(t)"
   ]
  },
  {
   "cell_type": "code",
   "execution_count": null,
   "metadata": {
    "collapsed": true
   },
   "outputs": [],
   "source": []
  }
 ],
 "metadata": {
  "kernelspec": {
   "display_name": "Python 3",
   "language": "python",
   "name": "python3"
  },
  "language_info": {
   "codemirror_mode": {
    "name": "ipython",
    "version": 3
   },
   "file_extension": ".py",
   "mimetype": "text/x-python",
   "name": "python",
   "nbconvert_exporter": "python",
   "pygments_lexer": "ipython3",
   "version": "3.5.2"
  }
 },
 "nbformat": 4,
 "nbformat_minor": 0
}
